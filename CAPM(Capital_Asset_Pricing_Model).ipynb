{
  "nbformat": 4,
  "nbformat_minor": 0,
  "metadata": {
    "colab": {
      "provenance": [],
      "authorship_tag": "ABX9TyMLRZRxDnrvQON5X1K8vTvZ",
      "include_colab_link": true
    },
    "kernelspec": {
      "name": "python3",
      "display_name": "Python 3"
    },
    "language_info": {
      "name": "python"
    }
  },
  "cells": [
    {
      "cell_type": "markdown",
      "metadata": {
        "id": "view-in-github",
        "colab_type": "text"
      },
      "source": [
        "<a href=\"https://colab.research.google.com/github/aisehiradamla/CAPM/blob/main/CAPM(Capital_Asset_Pricing_Model).ipynb\" target=\"_parent\"><img src=\"https://colab.research.google.com/assets/colab-badge.svg\" alt=\"Open In Colab\"/></a>"
      ]
    },
    {
      "cell_type": "markdown",
      "source": [
        "**CAPITAL ASSET PRICING MODEL**\n",
        "\n",
        "The Capital Asset Pricing Model (CAPM) is a financial model used to determine the expected return of an asset based on its level of risk and the overall market's expected return. It provides a formula that takes into account the risk-free rate, the beta of the investment, and the expected return of the market to estimate the expected return of an asset. CAPM is a widely used tool in finance for evaluating investment opportunities and assessing the risk-return tradeoff.\n",
        "\n"
      ],
      "metadata": {
        "id": "oXZ3Y3Yg4G1F"
      }
    },
    {
      "cell_type": "code",
      "source": [
        "import pandas as pd\n",
        "import matplotlib.pyplot as plt\n",
        "import numpy as np\n",
        "import seaborn as sns\n",
        "%matplotlib inline\n",
        "sns.set()\n",
        "plt.style.use('fivethirtyeight')"
      ],
      "metadata": {
        "id": "FBABTMjNpD7y"
      },
      "execution_count": null,
      "outputs": []
    },
    {
      "cell_type": "code",
      "source": [
        "stocks=pd.read_excel(\"/content/CAPM MODEL DATA (1).xlsx\")"
      ],
      "metadata": {
        "id": "kFVhaVQFpcA9"
      },
      "execution_count": null,
      "outputs": []
    },
    {
      "cell_type": "code",
      "source": [
        "stocks.head()"
      ],
      "metadata": {
        "colab": {
          "base_uri": "https://localhost:8080/",
          "height": 206
        },
        "id": "Nbu2yXSbqyg4",
        "outputId": "b38a0cb3-0902-4959-a545-181e6df2df76"
      },
      "execution_count": null,
      "outputs": [
        {
          "output_type": "execute_result",
          "data": {
            "text/plain": [
              "         DATE        GE       IBM      FORD      MSFT       DIS       XOM  \\\n",
              "0  30-01-1998  0.056218 -0.056153  0.058842  0.154255  0.080884 -0.030644   \n",
              "1  27-02-1998  0.003226  0.059620  0.109069  0.136154  0.047368  0.081728   \n",
              "2  31-03-1998  0.112379 -0.005386  0.145856  0.056047 -0.046343  0.060784   \n",
              "3  30-04-1998 -0.011603  0.115523  0.086181  0.006983  0.168337  0.080407   \n",
              "4  29-05-1998 -0.021277  0.015922  0.132333 -0.058946 -0.090818 -0.029461   \n",
              "\n",
              "        MKT  RISKFREE  \n",
              "0  0.004502  0.004480  \n",
              "1  0.073303  0.004480  \n",
              "2  0.051301  0.004519  \n",
              "3  0.010903  0.004503  \n",
              "4 -0.025748  0.004488  "
            ],
            "text/html": [
              "\n",
              "  <div id=\"df-c5dba8bc-abd4-4063-ae62-3e9f38d41358\">\n",
              "    <div class=\"colab-df-container\">\n",
              "      <div>\n",
              "<style scoped>\n",
              "    .dataframe tbody tr th:only-of-type {\n",
              "        vertical-align: middle;\n",
              "    }\n",
              "\n",
              "    .dataframe tbody tr th {\n",
              "        vertical-align: top;\n",
              "    }\n",
              "\n",
              "    .dataframe thead th {\n",
              "        text-align: right;\n",
              "    }\n",
              "</style>\n",
              "<table border=\"1\" class=\"dataframe\">\n",
              "  <thead>\n",
              "    <tr style=\"text-align: right;\">\n",
              "      <th></th>\n",
              "      <th>DATE</th>\n",
              "      <th>GE</th>\n",
              "      <th>IBM</th>\n",
              "      <th>FORD</th>\n",
              "      <th>MSFT</th>\n",
              "      <th>DIS</th>\n",
              "      <th>XOM</th>\n",
              "      <th>MKT</th>\n",
              "      <th>RISKFREE</th>\n",
              "    </tr>\n",
              "  </thead>\n",
              "  <tbody>\n",
              "    <tr>\n",
              "      <th>0</th>\n",
              "      <td>30-01-1998</td>\n",
              "      <td>0.056218</td>\n",
              "      <td>-0.056153</td>\n",
              "      <td>0.058842</td>\n",
              "      <td>0.154255</td>\n",
              "      <td>0.080884</td>\n",
              "      <td>-0.030644</td>\n",
              "      <td>0.004502</td>\n",
              "      <td>0.004480</td>\n",
              "    </tr>\n",
              "    <tr>\n",
              "      <th>1</th>\n",
              "      <td>27-02-1998</td>\n",
              "      <td>0.003226</td>\n",
              "      <td>0.059620</td>\n",
              "      <td>0.109069</td>\n",
              "      <td>0.136154</td>\n",
              "      <td>0.047368</td>\n",
              "      <td>0.081728</td>\n",
              "      <td>0.073303</td>\n",
              "      <td>0.004480</td>\n",
              "    </tr>\n",
              "    <tr>\n",
              "      <th>2</th>\n",
              "      <td>31-03-1998</td>\n",
              "      <td>0.112379</td>\n",
              "      <td>-0.005386</td>\n",
              "      <td>0.145856</td>\n",
              "      <td>0.056047</td>\n",
              "      <td>-0.046343</td>\n",
              "      <td>0.060784</td>\n",
              "      <td>0.051301</td>\n",
              "      <td>0.004519</td>\n",
              "    </tr>\n",
              "    <tr>\n",
              "      <th>3</th>\n",
              "      <td>30-04-1998</td>\n",
              "      <td>-0.011603</td>\n",
              "      <td>0.115523</td>\n",
              "      <td>0.086181</td>\n",
              "      <td>0.006983</td>\n",
              "      <td>0.168337</td>\n",
              "      <td>0.080407</td>\n",
              "      <td>0.010903</td>\n",
              "      <td>0.004503</td>\n",
              "    </tr>\n",
              "    <tr>\n",
              "      <th>4</th>\n",
              "      <td>29-05-1998</td>\n",
              "      <td>-0.021277</td>\n",
              "      <td>0.015922</td>\n",
              "      <td>0.132333</td>\n",
              "      <td>-0.058946</td>\n",
              "      <td>-0.090818</td>\n",
              "      <td>-0.029461</td>\n",
              "      <td>-0.025748</td>\n",
              "      <td>0.004488</td>\n",
              "    </tr>\n",
              "  </tbody>\n",
              "</table>\n",
              "</div>\n",
              "      <button class=\"colab-df-convert\" onclick=\"convertToInteractive('df-c5dba8bc-abd4-4063-ae62-3e9f38d41358')\"\n",
              "              title=\"Convert this dataframe to an interactive table.\"\n",
              "              style=\"display:none;\">\n",
              "        \n",
              "  <svg xmlns=\"http://www.w3.org/2000/svg\" height=\"24px\"viewBox=\"0 0 24 24\"\n",
              "       width=\"24px\">\n",
              "    <path d=\"M0 0h24v24H0V0z\" fill=\"none\"/>\n",
              "    <path d=\"M18.56 5.44l.94 2.06.94-2.06 2.06-.94-2.06-.94-.94-2.06-.94 2.06-2.06.94zm-11 1L8.5 8.5l.94-2.06 2.06-.94-2.06-.94L8.5 2.5l-.94 2.06-2.06.94zm10 10l.94 2.06.94-2.06 2.06-.94-2.06-.94-.94-2.06-.94 2.06-2.06.94z\"/><path d=\"M17.41 7.96l-1.37-1.37c-.4-.4-.92-.59-1.43-.59-.52 0-1.04.2-1.43.59L10.3 9.45l-7.72 7.72c-.78.78-.78 2.05 0 2.83L4 21.41c.39.39.9.59 1.41.59.51 0 1.02-.2 1.41-.59l7.78-7.78 2.81-2.81c.8-.78.8-2.07 0-2.86zM5.41 20L4 18.59l7.72-7.72 1.47 1.35L5.41 20z\"/>\n",
              "  </svg>\n",
              "      </button>\n",
              "      \n",
              "  <style>\n",
              "    .colab-df-container {\n",
              "      display:flex;\n",
              "      flex-wrap:wrap;\n",
              "      gap: 12px;\n",
              "    }\n",
              "\n",
              "    .colab-df-convert {\n",
              "      background-color: #E8F0FE;\n",
              "      border: none;\n",
              "      border-radius: 50%;\n",
              "      cursor: pointer;\n",
              "      display: none;\n",
              "      fill: #1967D2;\n",
              "      height: 32px;\n",
              "      padding: 0 0 0 0;\n",
              "      width: 32px;\n",
              "    }\n",
              "\n",
              "    .colab-df-convert:hover {\n",
              "      background-color: #E2EBFA;\n",
              "      box-shadow: 0px 1px 2px rgba(60, 64, 67, 0.3), 0px 1px 3px 1px rgba(60, 64, 67, 0.15);\n",
              "      fill: #174EA6;\n",
              "    }\n",
              "\n",
              "    [theme=dark] .colab-df-convert {\n",
              "      background-color: #3B4455;\n",
              "      fill: #D2E3FC;\n",
              "    }\n",
              "\n",
              "    [theme=dark] .colab-df-convert:hover {\n",
              "      background-color: #434B5C;\n",
              "      box-shadow: 0px 1px 3px 1px rgba(0, 0, 0, 0.15);\n",
              "      filter: drop-shadow(0px 1px 2px rgba(0, 0, 0, 0.3));\n",
              "      fill: #FFFFFF;\n",
              "    }\n",
              "  </style>\n",
              "\n",
              "      <script>\n",
              "        const buttonEl =\n",
              "          document.querySelector('#df-c5dba8bc-abd4-4063-ae62-3e9f38d41358 button.colab-df-convert');\n",
              "        buttonEl.style.display =\n",
              "          google.colab.kernel.accessAllowed ? 'block' : 'none';\n",
              "\n",
              "        async function convertToInteractive(key) {\n",
              "          const element = document.querySelector('#df-c5dba8bc-abd4-4063-ae62-3e9f38d41358');\n",
              "          const dataTable =\n",
              "            await google.colab.kernel.invokeFunction('convertToInteractive',\n",
              "                                                     [key], {});\n",
              "          if (!dataTable) return;\n",
              "\n",
              "          const docLinkHtml = 'Like what you see? Visit the ' +\n",
              "            '<a target=\"_blank\" href=https://colab.research.google.com/notebooks/data_table.ipynb>data table notebook</a>'\n",
              "            + ' to learn more about interactive tables.';\n",
              "          element.innerHTML = '';\n",
              "          dataTable['output_type'] = 'display_data';\n",
              "          await google.colab.output.renderOutput(dataTable, element);\n",
              "          const docLink = document.createElement('div');\n",
              "          docLink.innerHTML = docLinkHtml;\n",
              "          element.appendChild(docLink);\n",
              "        }\n",
              "      </script>\n",
              "    </div>\n",
              "  </div>\n",
              "  "
            ]
          },
          "metadata": {},
          "execution_count": 196
        }
      ]
    },
    {
      "cell_type": "code",
      "source": [
        "stocks.shape"
      ],
      "metadata": {
        "colab": {
          "base_uri": "https://localhost:8080/"
        },
        "id": "fy_vrnuRWdlb",
        "outputId": "b45d01b9-2adb-4282-86f8-e8faf3e32f84"
      },
      "execution_count": null,
      "outputs": [
        {
          "output_type": "execute_result",
          "data": {
            "text/plain": [
              "(132, 9)"
            ]
          },
          "metadata": {},
          "execution_count": 197
        }
      ]
    },
    {
      "cell_type": "markdown",
      "source": [
        "Data has 132 rows(observation) and 10 columns."
      ],
      "metadata": {
        "id": "AxFuqgBgaizH"
      }
    },
    {
      "cell_type": "code",
      "source": [
        "df = pd.DataFrame(data=stocks)"
      ],
      "metadata": {
        "id": "l3qlBE4RSgo9"
      },
      "execution_count": null,
      "outputs": []
    },
    {
      "cell_type": "code",
      "source": [
        "df=df.set_index(pd.DatetimeIndex(df[\"DATE\"].values)) # We need to index date "
      ],
      "metadata": {
        "id": "80EWosBFUKe5"
      },
      "execution_count": null,
      "outputs": []
    },
    {
      "cell_type": "code",
      "source": [
        "df"
      ],
      "metadata": {
        "colab": {
          "base_uri": "https://localhost:8080/",
          "height": 424
        },
        "id": "4Gpqn4RSP4pZ",
        "outputId": "276909d0-ff9b-4a5d-db5a-68fea60cd3cf"
      },
      "execution_count": null,
      "outputs": [
        {
          "output_type": "execute_result",
          "data": {
            "text/plain": [
              "                  DATE        GE       IBM      FORD      MSFT       DIS  \\\n",
              "1998-01-30  30-01-1998  0.056218 -0.056153  0.058842  0.154255  0.080884   \n",
              "1998-02-27  27-02-1998  0.003226  0.059620  0.109069  0.136154  0.047368   \n",
              "1998-03-31  31-03-1998  0.112379 -0.005386  0.145856  0.056047 -0.046343   \n",
              "1998-04-30  30-04-1998 -0.011603  0.115523  0.086181  0.006983  0.168337   \n",
              "1998-05-29  29-05-1998 -0.021277  0.015922  0.132333 -0.058946 -0.090818   \n",
              "...                ...       ...       ...       ...       ...       ...   \n",
              "2008-08-29  29-08-2008 -0.006716 -0.044929 -0.070833  0.065319  0.065898   \n",
              "2008-09-30  30-09-2008 -0.081495 -0.039185  0.165919 -0.021986 -0.051314   \n",
              "2008-10-31  31-10-2008 -0.234902 -0.205113 -0.578846 -0.163357 -0.155751   \n",
              "2008-11-28  28-11-2008 -0.119939 -0.116919  0.228310 -0.088670 -0.130837   \n",
              "2008-12-31  31-12-2008 -0.038439  0.031373 -0.148699 -0.038576  0.023091   \n",
              "\n",
              "                 XOM       MKT  RISKFREE  \n",
              "1998-01-30 -0.030644  0.004502  0.004480  \n",
              "1998-02-27  0.081728  0.073303  0.004480  \n",
              "1998-03-31  0.060784  0.051301  0.004519  \n",
              "1998-04-30  0.080407  0.010903  0.004503  \n",
              "1998-05-29 -0.029461 -0.025748  0.004488  \n",
              "...              ...       ...       ...  \n",
              "2008-08-29 -0.000249  0.010564  0.002149  \n",
              "2008-09-30 -0.029371 -0.098005  0.003282  \n",
              "2008-10-31 -0.045583 -0.184603  0.004018  \n",
              "2008-11-28  0.086751 -0.084614  0.001717  \n",
              "2008-12-31 -0.003993  0.022149  0.001447  \n",
              "\n",
              "[132 rows x 9 columns]"
            ],
            "text/html": [
              "\n",
              "  <div id=\"df-ba7db12a-bc21-437b-94f0-580d74fe0d23\">\n",
              "    <div class=\"colab-df-container\">\n",
              "      <div>\n",
              "<style scoped>\n",
              "    .dataframe tbody tr th:only-of-type {\n",
              "        vertical-align: middle;\n",
              "    }\n",
              "\n",
              "    .dataframe tbody tr th {\n",
              "        vertical-align: top;\n",
              "    }\n",
              "\n",
              "    .dataframe thead th {\n",
              "        text-align: right;\n",
              "    }\n",
              "</style>\n",
              "<table border=\"1\" class=\"dataframe\">\n",
              "  <thead>\n",
              "    <tr style=\"text-align: right;\">\n",
              "      <th></th>\n",
              "      <th>DATE</th>\n",
              "      <th>GE</th>\n",
              "      <th>IBM</th>\n",
              "      <th>FORD</th>\n",
              "      <th>MSFT</th>\n",
              "      <th>DIS</th>\n",
              "      <th>XOM</th>\n",
              "      <th>MKT</th>\n",
              "      <th>RISKFREE</th>\n",
              "    </tr>\n",
              "  </thead>\n",
              "  <tbody>\n",
              "    <tr>\n",
              "      <th>1998-01-30</th>\n",
              "      <td>30-01-1998</td>\n",
              "      <td>0.056218</td>\n",
              "      <td>-0.056153</td>\n",
              "      <td>0.058842</td>\n",
              "      <td>0.154255</td>\n",
              "      <td>0.080884</td>\n",
              "      <td>-0.030644</td>\n",
              "      <td>0.004502</td>\n",
              "      <td>0.004480</td>\n",
              "    </tr>\n",
              "    <tr>\n",
              "      <th>1998-02-27</th>\n",
              "      <td>27-02-1998</td>\n",
              "      <td>0.003226</td>\n",
              "      <td>0.059620</td>\n",
              "      <td>0.109069</td>\n",
              "      <td>0.136154</td>\n",
              "      <td>0.047368</td>\n",
              "      <td>0.081728</td>\n",
              "      <td>0.073303</td>\n",
              "      <td>0.004480</td>\n",
              "    </tr>\n",
              "    <tr>\n",
              "      <th>1998-03-31</th>\n",
              "      <td>31-03-1998</td>\n",
              "      <td>0.112379</td>\n",
              "      <td>-0.005386</td>\n",
              "      <td>0.145856</td>\n",
              "      <td>0.056047</td>\n",
              "      <td>-0.046343</td>\n",
              "      <td>0.060784</td>\n",
              "      <td>0.051301</td>\n",
              "      <td>0.004519</td>\n",
              "    </tr>\n",
              "    <tr>\n",
              "      <th>1998-04-30</th>\n",
              "      <td>30-04-1998</td>\n",
              "      <td>-0.011603</td>\n",
              "      <td>0.115523</td>\n",
              "      <td>0.086181</td>\n",
              "      <td>0.006983</td>\n",
              "      <td>0.168337</td>\n",
              "      <td>0.080407</td>\n",
              "      <td>0.010903</td>\n",
              "      <td>0.004503</td>\n",
              "    </tr>\n",
              "    <tr>\n",
              "      <th>1998-05-29</th>\n",
              "      <td>29-05-1998</td>\n",
              "      <td>-0.021277</td>\n",
              "      <td>0.015922</td>\n",
              "      <td>0.132333</td>\n",
              "      <td>-0.058946</td>\n",
              "      <td>-0.090818</td>\n",
              "      <td>-0.029461</td>\n",
              "      <td>-0.025748</td>\n",
              "      <td>0.004488</td>\n",
              "    </tr>\n",
              "    <tr>\n",
              "      <th>...</th>\n",
              "      <td>...</td>\n",
              "      <td>...</td>\n",
              "      <td>...</td>\n",
              "      <td>...</td>\n",
              "      <td>...</td>\n",
              "      <td>...</td>\n",
              "      <td>...</td>\n",
              "      <td>...</td>\n",
              "      <td>...</td>\n",
              "    </tr>\n",
              "    <tr>\n",
              "      <th>2008-08-29</th>\n",
              "      <td>29-08-2008</td>\n",
              "      <td>-0.006716</td>\n",
              "      <td>-0.044929</td>\n",
              "      <td>-0.070833</td>\n",
              "      <td>0.065319</td>\n",
              "      <td>0.065898</td>\n",
              "      <td>-0.000249</td>\n",
              "      <td>0.010564</td>\n",
              "      <td>0.002149</td>\n",
              "    </tr>\n",
              "    <tr>\n",
              "      <th>2008-09-30</th>\n",
              "      <td>30-09-2008</td>\n",
              "      <td>-0.081495</td>\n",
              "      <td>-0.039185</td>\n",
              "      <td>0.165919</td>\n",
              "      <td>-0.021986</td>\n",
              "      <td>-0.051314</td>\n",
              "      <td>-0.029371</td>\n",
              "      <td>-0.098005</td>\n",
              "      <td>0.003282</td>\n",
              "    </tr>\n",
              "    <tr>\n",
              "      <th>2008-10-31</th>\n",
              "      <td>31-10-2008</td>\n",
              "      <td>-0.234902</td>\n",
              "      <td>-0.205113</td>\n",
              "      <td>-0.578846</td>\n",
              "      <td>-0.163357</td>\n",
              "      <td>-0.155751</td>\n",
              "      <td>-0.045583</td>\n",
              "      <td>-0.184603</td>\n",
              "      <td>0.004018</td>\n",
              "    </tr>\n",
              "    <tr>\n",
              "      <th>2008-11-28</th>\n",
              "      <td>28-11-2008</td>\n",
              "      <td>-0.119939</td>\n",
              "      <td>-0.116919</td>\n",
              "      <td>0.228310</td>\n",
              "      <td>-0.088670</td>\n",
              "      <td>-0.130837</td>\n",
              "      <td>0.086751</td>\n",
              "      <td>-0.084614</td>\n",
              "      <td>0.001717</td>\n",
              "    </tr>\n",
              "    <tr>\n",
              "      <th>2008-12-31</th>\n",
              "      <td>31-12-2008</td>\n",
              "      <td>-0.038439</td>\n",
              "      <td>0.031373</td>\n",
              "      <td>-0.148699</td>\n",
              "      <td>-0.038576</td>\n",
              "      <td>0.023091</td>\n",
              "      <td>-0.003993</td>\n",
              "      <td>0.022149</td>\n",
              "      <td>0.001447</td>\n",
              "    </tr>\n",
              "  </tbody>\n",
              "</table>\n",
              "<p>132 rows × 9 columns</p>\n",
              "</div>\n",
              "      <button class=\"colab-df-convert\" onclick=\"convertToInteractive('df-ba7db12a-bc21-437b-94f0-580d74fe0d23')\"\n",
              "              title=\"Convert this dataframe to an interactive table.\"\n",
              "              style=\"display:none;\">\n",
              "        \n",
              "  <svg xmlns=\"http://www.w3.org/2000/svg\" height=\"24px\"viewBox=\"0 0 24 24\"\n",
              "       width=\"24px\">\n",
              "    <path d=\"M0 0h24v24H0V0z\" fill=\"none\"/>\n",
              "    <path d=\"M18.56 5.44l.94 2.06.94-2.06 2.06-.94-2.06-.94-.94-2.06-.94 2.06-2.06.94zm-11 1L8.5 8.5l.94-2.06 2.06-.94-2.06-.94L8.5 2.5l-.94 2.06-2.06.94zm10 10l.94 2.06.94-2.06 2.06-.94-2.06-.94-.94-2.06-.94 2.06-2.06.94z\"/><path d=\"M17.41 7.96l-1.37-1.37c-.4-.4-.92-.59-1.43-.59-.52 0-1.04.2-1.43.59L10.3 9.45l-7.72 7.72c-.78.78-.78 2.05 0 2.83L4 21.41c.39.39.9.59 1.41.59.51 0 1.02-.2 1.41-.59l7.78-7.78 2.81-2.81c.8-.78.8-2.07 0-2.86zM5.41 20L4 18.59l7.72-7.72 1.47 1.35L5.41 20z\"/>\n",
              "  </svg>\n",
              "      </button>\n",
              "      \n",
              "  <style>\n",
              "    .colab-df-container {\n",
              "      display:flex;\n",
              "      flex-wrap:wrap;\n",
              "      gap: 12px;\n",
              "    }\n",
              "\n",
              "    .colab-df-convert {\n",
              "      background-color: #E8F0FE;\n",
              "      border: none;\n",
              "      border-radius: 50%;\n",
              "      cursor: pointer;\n",
              "      display: none;\n",
              "      fill: #1967D2;\n",
              "      height: 32px;\n",
              "      padding: 0 0 0 0;\n",
              "      width: 32px;\n",
              "    }\n",
              "\n",
              "    .colab-df-convert:hover {\n",
              "      background-color: #E2EBFA;\n",
              "      box-shadow: 0px 1px 2px rgba(60, 64, 67, 0.3), 0px 1px 3px 1px rgba(60, 64, 67, 0.15);\n",
              "      fill: #174EA6;\n",
              "    }\n",
              "\n",
              "    [theme=dark] .colab-df-convert {\n",
              "      background-color: #3B4455;\n",
              "      fill: #D2E3FC;\n",
              "    }\n",
              "\n",
              "    [theme=dark] .colab-df-convert:hover {\n",
              "      background-color: #434B5C;\n",
              "      box-shadow: 0px 1px 3px 1px rgba(0, 0, 0, 0.15);\n",
              "      filter: drop-shadow(0px 1px 2px rgba(0, 0, 0, 0.3));\n",
              "      fill: #FFFFFF;\n",
              "    }\n",
              "  </style>\n",
              "\n",
              "      <script>\n",
              "        const buttonEl =\n",
              "          document.querySelector('#df-ba7db12a-bc21-437b-94f0-580d74fe0d23 button.colab-df-convert');\n",
              "        buttonEl.style.display =\n",
              "          google.colab.kernel.accessAllowed ? 'block' : 'none';\n",
              "\n",
              "        async function convertToInteractive(key) {\n",
              "          const element = document.querySelector('#df-ba7db12a-bc21-437b-94f0-580d74fe0d23');\n",
              "          const dataTable =\n",
              "            await google.colab.kernel.invokeFunction('convertToInteractive',\n",
              "                                                     [key], {});\n",
              "          if (!dataTable) return;\n",
              "\n",
              "          const docLinkHtml = 'Like what you see? Visit the ' +\n",
              "            '<a target=\"_blank\" href=https://colab.research.google.com/notebooks/data_table.ipynb>data table notebook</a>'\n",
              "            + ' to learn more about interactive tables.';\n",
              "          element.innerHTML = '';\n",
              "          dataTable['output_type'] = 'display_data';\n",
              "          await google.colab.output.renderOutput(dataTable, element);\n",
              "          const docLink = document.createElement('div');\n",
              "          docLink.innerHTML = docLinkHtml;\n",
              "          element.appendChild(docLink);\n",
              "        }\n",
              "      </script>\n",
              "    </div>\n",
              "  </div>\n",
              "  "
            ]
          },
          "metadata": {},
          "execution_count": 200
        }
      ]
    },
    {
      "cell_type": "code",
      "source": [
        "stocks.dtypes"
      ],
      "metadata": {
        "colab": {
          "base_uri": "https://localhost:8080/"
        },
        "id": "aaGgeE8_O2S_",
        "outputId": "0530952b-094b-492b-d397-fca74ed41993"
      },
      "execution_count": null,
      "outputs": [
        {
          "output_type": "execute_result",
          "data": {
            "text/plain": [
              "DATE         object\n",
              "GE          float64\n",
              "IBM         float64\n",
              "FORD        float64\n",
              "MSFT        float64\n",
              "DIS         float64\n",
              "XOM         float64\n",
              "MKT         float64\n",
              "RISKFREE    float64\n",
              "dtype: object"
            ]
          },
          "metadata": {},
          "execution_count": 201
        }
      ]
    },
    {
      "cell_type": "markdown",
      "source": [
        "**DATA** **DICTIONARY** "
      ],
      "metadata": {
        "id": "Ckqu3Kyu9usv"
      }
    },
    {
      "cell_type": "code",
      "source": [
        "stocks.columns"
      ],
      "metadata": {
        "colab": {
          "base_uri": "https://localhost:8080/"
        },
        "id": "DR5U4H8brDCg",
        "outputId": "3fae83f7-0152-4455-950e-f2bb7e5a7ecd"
      },
      "execution_count": null,
      "outputs": [
        {
          "output_type": "execute_result",
          "data": {
            "text/plain": [
              "Index(['DATE', 'GE', 'IBM', 'FORD', 'MSFT', 'DIS', 'XOM', 'MKT', 'RISKFREE'], dtype='object')"
            ]
          },
          "metadata": {},
          "execution_count": 202
        }
      ]
    },
    {
      "cell_type": "markdown",
      "source": [
        "\n",
        "\n",
        " **GE**:(General Electric Company)\n",
        "\n",
        "*Sector*(s): Industrials\n",
        "\n",
        "*Industry*: Specialty Industrial Machinery\n",
        " \n",
        " **IBM**:(International Business Machines Corporation)\n",
        "\n",
        "*Sector*(s): Technology\n",
        "\n",
        "*Industry*: Information Technology Services\n",
        "\n",
        "\n",
        " **FORD**:(Forward Industries, Inc.)\n",
        "\n",
        "*Sector*(s): Consumer Cyclical\n",
        "\n",
        "*Industry*: Footwear & Accessories\n",
        "\n",
        "\n",
        " **MSFT**:(Microsoft Corporation )\n",
        "\n",
        "*Sector*(s): Technology\n",
        "\n",
        "*Industry*: Software—Infrastructure\n",
        "\n",
        "\n",
        " **DIS**:(The Walt Disney Company)\n",
        "\n",
        "*sector*(s): Communication Services\n",
        "\n",
        "*Industry*: Entertainment\n",
        "\n",
        " **XOM**:(Exxon Mobil Corporation)\n",
        "\n",
        "*Sector*(s): Energy\n",
        "\n",
        "*Industry*: Oil & Gas Integrated\n",
        "\n",
        " **MKT**: (The rate of return on the market portfolio )\n",
        "\n",
        " **RISKFREE**( The rate of return on the \n",
        "risk free asset)"
      ],
      "metadata": {
        "id": "K6G2JL-S4vHR"
      }
    },
    {
      "cell_type": "code",
      "source": [
        "stocks.isnull().sum()#Checiking missing values "
      ],
      "metadata": {
        "colab": {
          "base_uri": "https://localhost:8080/"
        },
        "id": "AQg7jnvPrLNd",
        "outputId": "de8fcfb3-b969-4131-92ee-f6167965c3fa"
      },
      "execution_count": null,
      "outputs": [
        {
          "output_type": "execute_result",
          "data": {
            "text/plain": [
              "DATE        0\n",
              "GE          0\n",
              "IBM         0\n",
              "FORD        0\n",
              "MSFT        0\n",
              "DIS         0\n",
              "XOM         0\n",
              "MKT         0\n",
              "RISKFREE    0\n",
              "dtype: int64"
            ]
          },
          "metadata": {},
          "execution_count": 203
        }
      ]
    },
    {
      "cell_type": "markdown",
      "source": [
        "The dataset has no missing values. "
      ],
      "metadata": {
        "id": "4MVYQ8VFjBDQ"
      }
    },
    {
      "cell_type": "markdown",
      "source": [
        "**SUMMARY** **STATISTIC**"
      ],
      "metadata": {
        "id": "8DA3CxT299Nq"
      }
    },
    {
      "cell_type": "code",
      "source": [
        "stocks.describe()"
      ],
      "metadata": {
        "colab": {
          "base_uri": "https://localhost:8080/",
          "height": 300
        },
        "id": "DnGmC4M7G4l1",
        "outputId": "e51dfe07-6a1b-4444-f2d7-1c76d1c4ca82"
      },
      "execution_count": null,
      "outputs": [
        {
          "output_type": "execute_result",
          "data": {
            "text/plain": [
              "               GE         IBM        FORD        MSFT         DIS         XOM  \\\n",
              "count  132.000000  132.000000  132.000000  132.000000  132.000000  132.000000   \n",
              "mean     0.001361    0.008332   -0.003950    0.008557    0.001379    0.010488   \n",
              "std      0.069934    0.090485    0.130211    0.109361    0.080866    0.053417   \n",
              "min     -0.234902   -0.226453   -0.578846   -0.343529   -0.267794   -0.116462   \n",
              "25%     -0.032974   -0.038707   -0.082942   -0.056052   -0.043638   -0.028031   \n",
              "50%     -0.004716    0.006482   -0.013232    0.003996    0.005858    0.003309   \n",
              "75%      0.040096    0.051488    0.060733    0.056916    0.047858    0.041534   \n",
              "max      0.192392    0.353799    0.444056    0.407781    0.241453    0.232171   \n",
              "\n",
              "              MKT    RISKFREE  \n",
              "count  132.000000  132.000000  \n",
              "mean     0.002522    0.003093  \n",
              "std      0.048463    0.001464  \n",
              "min     -0.184603    0.000846  \n",
              "25%     -0.022977    0.001504  \n",
              "50%      0.010868    0.003466  \n",
              "75%      0.037938    0.004329  \n",
              "max      0.083832    0.005325  "
            ],
            "text/html": [
              "\n",
              "  <div id=\"df-2c5d1375-bb8a-4b55-94f7-de5eff95f657\">\n",
              "    <div class=\"colab-df-container\">\n",
              "      <div>\n",
              "<style scoped>\n",
              "    .dataframe tbody tr th:only-of-type {\n",
              "        vertical-align: middle;\n",
              "    }\n",
              "\n",
              "    .dataframe tbody tr th {\n",
              "        vertical-align: top;\n",
              "    }\n",
              "\n",
              "    .dataframe thead th {\n",
              "        text-align: right;\n",
              "    }\n",
              "</style>\n",
              "<table border=\"1\" class=\"dataframe\">\n",
              "  <thead>\n",
              "    <tr style=\"text-align: right;\">\n",
              "      <th></th>\n",
              "      <th>GE</th>\n",
              "      <th>IBM</th>\n",
              "      <th>FORD</th>\n",
              "      <th>MSFT</th>\n",
              "      <th>DIS</th>\n",
              "      <th>XOM</th>\n",
              "      <th>MKT</th>\n",
              "      <th>RISKFREE</th>\n",
              "    </tr>\n",
              "  </thead>\n",
              "  <tbody>\n",
              "    <tr>\n",
              "      <th>count</th>\n",
              "      <td>132.000000</td>\n",
              "      <td>132.000000</td>\n",
              "      <td>132.000000</td>\n",
              "      <td>132.000000</td>\n",
              "      <td>132.000000</td>\n",
              "      <td>132.000000</td>\n",
              "      <td>132.000000</td>\n",
              "      <td>132.000000</td>\n",
              "    </tr>\n",
              "    <tr>\n",
              "      <th>mean</th>\n",
              "      <td>0.001361</td>\n",
              "      <td>0.008332</td>\n",
              "      <td>-0.003950</td>\n",
              "      <td>0.008557</td>\n",
              "      <td>0.001379</td>\n",
              "      <td>0.010488</td>\n",
              "      <td>0.002522</td>\n",
              "      <td>0.003093</td>\n",
              "    </tr>\n",
              "    <tr>\n",
              "      <th>std</th>\n",
              "      <td>0.069934</td>\n",
              "      <td>0.090485</td>\n",
              "      <td>0.130211</td>\n",
              "      <td>0.109361</td>\n",
              "      <td>0.080866</td>\n",
              "      <td>0.053417</td>\n",
              "      <td>0.048463</td>\n",
              "      <td>0.001464</td>\n",
              "    </tr>\n",
              "    <tr>\n",
              "      <th>min</th>\n",
              "      <td>-0.234902</td>\n",
              "      <td>-0.226453</td>\n",
              "      <td>-0.578846</td>\n",
              "      <td>-0.343529</td>\n",
              "      <td>-0.267794</td>\n",
              "      <td>-0.116462</td>\n",
              "      <td>-0.184603</td>\n",
              "      <td>0.000846</td>\n",
              "    </tr>\n",
              "    <tr>\n",
              "      <th>25%</th>\n",
              "      <td>-0.032974</td>\n",
              "      <td>-0.038707</td>\n",
              "      <td>-0.082942</td>\n",
              "      <td>-0.056052</td>\n",
              "      <td>-0.043638</td>\n",
              "      <td>-0.028031</td>\n",
              "      <td>-0.022977</td>\n",
              "      <td>0.001504</td>\n",
              "    </tr>\n",
              "    <tr>\n",
              "      <th>50%</th>\n",
              "      <td>-0.004716</td>\n",
              "      <td>0.006482</td>\n",
              "      <td>-0.013232</td>\n",
              "      <td>0.003996</td>\n",
              "      <td>0.005858</td>\n",
              "      <td>0.003309</td>\n",
              "      <td>0.010868</td>\n",
              "      <td>0.003466</td>\n",
              "    </tr>\n",
              "    <tr>\n",
              "      <th>75%</th>\n",
              "      <td>0.040096</td>\n",
              "      <td>0.051488</td>\n",
              "      <td>0.060733</td>\n",
              "      <td>0.056916</td>\n",
              "      <td>0.047858</td>\n",
              "      <td>0.041534</td>\n",
              "      <td>0.037938</td>\n",
              "      <td>0.004329</td>\n",
              "    </tr>\n",
              "    <tr>\n",
              "      <th>max</th>\n",
              "      <td>0.192392</td>\n",
              "      <td>0.353799</td>\n",
              "      <td>0.444056</td>\n",
              "      <td>0.407781</td>\n",
              "      <td>0.241453</td>\n",
              "      <td>0.232171</td>\n",
              "      <td>0.083832</td>\n",
              "      <td>0.005325</td>\n",
              "    </tr>\n",
              "  </tbody>\n",
              "</table>\n",
              "</div>\n",
              "      <button class=\"colab-df-convert\" onclick=\"convertToInteractive('df-2c5d1375-bb8a-4b55-94f7-de5eff95f657')\"\n",
              "              title=\"Convert this dataframe to an interactive table.\"\n",
              "              style=\"display:none;\">\n",
              "        \n",
              "  <svg xmlns=\"http://www.w3.org/2000/svg\" height=\"24px\"viewBox=\"0 0 24 24\"\n",
              "       width=\"24px\">\n",
              "    <path d=\"M0 0h24v24H0V0z\" fill=\"none\"/>\n",
              "    <path d=\"M18.56 5.44l.94 2.06.94-2.06 2.06-.94-2.06-.94-.94-2.06-.94 2.06-2.06.94zm-11 1L8.5 8.5l.94-2.06 2.06-.94-2.06-.94L8.5 2.5l-.94 2.06-2.06.94zm10 10l.94 2.06.94-2.06 2.06-.94-2.06-.94-.94-2.06-.94 2.06-2.06.94z\"/><path d=\"M17.41 7.96l-1.37-1.37c-.4-.4-.92-.59-1.43-.59-.52 0-1.04.2-1.43.59L10.3 9.45l-7.72 7.72c-.78.78-.78 2.05 0 2.83L4 21.41c.39.39.9.59 1.41.59.51 0 1.02-.2 1.41-.59l7.78-7.78 2.81-2.81c.8-.78.8-2.07 0-2.86zM5.41 20L4 18.59l7.72-7.72 1.47 1.35L5.41 20z\"/>\n",
              "  </svg>\n",
              "      </button>\n",
              "      \n",
              "  <style>\n",
              "    .colab-df-container {\n",
              "      display:flex;\n",
              "      flex-wrap:wrap;\n",
              "      gap: 12px;\n",
              "    }\n",
              "\n",
              "    .colab-df-convert {\n",
              "      background-color: #E8F0FE;\n",
              "      border: none;\n",
              "      border-radius: 50%;\n",
              "      cursor: pointer;\n",
              "      display: none;\n",
              "      fill: #1967D2;\n",
              "      height: 32px;\n",
              "      padding: 0 0 0 0;\n",
              "      width: 32px;\n",
              "    }\n",
              "\n",
              "    .colab-df-convert:hover {\n",
              "      background-color: #E2EBFA;\n",
              "      box-shadow: 0px 1px 2px rgba(60, 64, 67, 0.3), 0px 1px 3px 1px rgba(60, 64, 67, 0.15);\n",
              "      fill: #174EA6;\n",
              "    }\n",
              "\n",
              "    [theme=dark] .colab-df-convert {\n",
              "      background-color: #3B4455;\n",
              "      fill: #D2E3FC;\n",
              "    }\n",
              "\n",
              "    [theme=dark] .colab-df-convert:hover {\n",
              "      background-color: #434B5C;\n",
              "      box-shadow: 0px 1px 3px 1px rgba(0, 0, 0, 0.15);\n",
              "      filter: drop-shadow(0px 1px 2px rgba(0, 0, 0, 0.3));\n",
              "      fill: #FFFFFF;\n",
              "    }\n",
              "  </style>\n",
              "\n",
              "      <script>\n",
              "        const buttonEl =\n",
              "          document.querySelector('#df-2c5d1375-bb8a-4b55-94f7-de5eff95f657 button.colab-df-convert');\n",
              "        buttonEl.style.display =\n",
              "          google.colab.kernel.accessAllowed ? 'block' : 'none';\n",
              "\n",
              "        async function convertToInteractive(key) {\n",
              "          const element = document.querySelector('#df-2c5d1375-bb8a-4b55-94f7-de5eff95f657');\n",
              "          const dataTable =\n",
              "            await google.colab.kernel.invokeFunction('convertToInteractive',\n",
              "                                                     [key], {});\n",
              "          if (!dataTable) return;\n",
              "\n",
              "          const docLinkHtml = 'Like what you see? Visit the ' +\n",
              "            '<a target=\"_blank\" href=https://colab.research.google.com/notebooks/data_table.ipynb>data table notebook</a>'\n",
              "            + ' to learn more about interactive tables.';\n",
              "          element.innerHTML = '';\n",
              "          dataTable['output_type'] = 'display_data';\n",
              "          await google.colab.output.renderOutput(dataTable, element);\n",
              "          const docLink = document.createElement('div');\n",
              "          docLink.innerHTML = docLinkHtml;\n",
              "          element.appendChild(docLink);\n",
              "        }\n",
              "      </script>\n",
              "    </div>\n",
              "  </div>\n",
              "  "
            ]
          },
          "metadata": {},
          "execution_count": 204
        }
      ]
    },
    {
      "cell_type": "markdown",
      "source": [
        " **BETA** "
      ],
      "metadata": {
        "id": "SKKjS1hfwyXM"
      }
    },
    {
      "cell_type": "markdown",
      "source": [
        "Beta (β), which is mostly employed in the capital asset pricing model (CAPM), is a measurement of a security or portfolio's volatility—or systematic risk—in comparison to the market as a whole."
      ],
      "metadata": {
        "id": "Bgz8-TfrnVas"
      }
    },
    {
      "cell_type": "markdown",
      "source": [
        "**The** **Calculation** **for** **Beta** **Is** **As** **Follows**:\n",
        "\n",
        "\\begin{aligned} &\\text{Beta coefficient}(\\beta) = \\frac{\\text{Covariance}(R_e, R_m)}{\\text{Variance}(R_m)} \\\\ &\\textbf{where:}\\\\ &R_e=\\text{the return on an individual stock}\\\\ &R_m=\\text{the return on the overall market}\\\\ &\\text{Covariance}=\\text{how changes in a stock's returns are} \\\\ &\\text{related to changes in the market's returns}\\\\ &\\text{Variance}=\\text{how far the market's data points spread} \\\\ &\\text{out from their average value} \\\\ \\end{aligned} \n",
        "\n",
        "\n",
        "​\n",
        "\"What Is Beta In Finance, And How Is It Calculated?\". Investopedia, 2022, https://www.investopedia.com/terms/b/beta.asp.\n",
        "  \n",
        "\n"
      ],
      "metadata": {
        "id": "SfOHeaZ0nVeH"
      }
    },
    {
      "cell_type": "markdown",
      "source": [
        "\n",
        "\n",
        "*   The stock must be tied to the benchmark used in the calculation for the beta to have any significance.\n",
        "*   The beta for the S&P 500 is 1.0\n",
        "\n"
      ],
      "metadata": {
        "id": "STApWty8nVhy"
      }
    },
    {
      "cell_type": "markdown",
      "source": [
        "\n",
        "\n",
        "*  If the Beta of an individual stock = 1.0, this means its price is perfectly correlated with the market\n",
        "\n",
        "*  If Beta < 1.0, which is referred to as 'defensive', this indicates the security is theoretically less volatile than the market\n",
        "\n",
        "\n",
        "* If Beta > 1.0, or 'aggressive', this indicates the assets price is more volatile than the market"
      ],
      "metadata": {
        "id": "uGrGFVTVwqh_"
      }
    },
    {
      "cell_type": "code",
      "source": [
        "from sklearn.linear_model import LinearRegression #for comparing the beta values "
      ],
      "metadata": {
        "id": "SPjdJN-SVbsE"
      },
      "execution_count": null,
      "outputs": []
    },
    {
      "cell_type": "markdown",
      "source": [
        "**Calculating** **each** **variable**'**s** **BETA**."
      ],
      "metadata": {
        "id": "4oN1Ni57-mav"
      }
    },
    {
      "cell_type": "code",
      "source": [
        "covariance=stocks.cov()"
      ],
      "metadata": {
        "id": "VHZ8036y0b7i"
      },
      "execution_count": null,
      "outputs": []
    },
    {
      "cell_type": "code",
      "source": [
        "variance=stocks[\"MKT\"].var()"
      ],
      "metadata": {
        "id": "Ewl3ltzi1N7m"
      },
      "execution_count": null,
      "outputs": []
    },
    {
      "cell_type": "code",
      "source": [
        "variance"
      ],
      "metadata": {
        "colab": {
          "base_uri": "https://localhost:8080/"
        },
        "id": "9T3DkNZt1crK",
        "outputId": "ad907bcb-e422-46ee-8777-139fe01f405f"
      },
      "execution_count": null,
      "outputs": [
        {
          "output_type": "execute_result",
          "data": {
            "text/plain": [
              "0.002348678959175341"
            ]
          },
          "metadata": {},
          "execution_count": 208
        }
      ]
    },
    {
      "cell_type": "code",
      "source": [
        "Beta_allStocks=covariance.loc[\"MKT\"]/variance # Beta for all stocks "
      ],
      "metadata": {
        "id": "BREKliWl5pqL"
      },
      "execution_count": null,
      "outputs": []
    },
    {
      "cell_type": "code",
      "source": [
        "Beta_allStocks"
      ],
      "metadata": {
        "colab": {
          "base_uri": "https://localhost:8080/"
        },
        "id": "2fsYFKe41G_g",
        "outputId": "397c93b4-60ed-4f6e-fe08-9c46f33fa7b3"
      },
      "execution_count": null,
      "outputs": [
        {
          "output_type": "execute_result",
          "data": {
            "text/plain": [
              "GE          0.904096\n",
              "IBM         1.190494\n",
              "FORD        1.316384\n",
              "MSFT        1.321046\n",
              "DIS         0.897774\n",
              "XOM         0.415981\n",
              "MKT         1.000000\n",
              "RISKFREE   -0.000185\n",
              "Name: MKT, dtype: float64"
            ]
          },
          "metadata": {},
          "execution_count": 210
        }
      ]
    },
    {
      "cell_type": "markdown",
      "source": [
        "**MSFT**(**Microsoft** **corporation**)"
      ],
      "metadata": {
        "id": "4nPw6vVU0wra"
      }
    },
    {
      "cell_type": "code",
      "source": [
        "#beta_msft=covariance.loc[\"MSFT\",\"MKT\"]/variance #Beta value for MSFT\n",
        "#one way of to calculate the beta value of stock "
      ],
      "metadata": {
        "id": "uwlBFKF-3dlb"
      },
      "execution_count": null,
      "outputs": []
    },
    {
      "cell_type": "code",
      "source": [
        "X=stocks[\"MKT\"].iloc[1:].to_numpy().reshape(-1,1)\n",
        "Y_msft=stocks[\"MSFT\"].iloc[1:].to_numpy().reshape(-1,1)\n",
        "\n",
        "linear_regression=LinearRegression()\n",
        "linear_regression.fit(X,Y_msft)\n",
        "\n",
        "Y_msft_pred=linear_regression.predict(X)\n",
        "\n",
        "alpha_msft=linear_regression.intercept_[0]\n",
        "beta_msft=linear_regression.coef_[0,0]\n"
      ],
      "metadata": {
        "id": "v4Mt0vs61Fro"
      },
      "execution_count": null,
      "outputs": []
    },
    {
      "cell_type": "code",
      "source": [
        "alpha_msft "
      ],
      "metadata": {
        "colab": {
          "base_uri": "https://localhost:8080/"
        },
        "id": "eFs7zIcN3XKz",
        "outputId": "d40e9990-ccb3-4bcd-8b95-64ae0a67d82f"
      },
      "execution_count": null,
      "outputs": [
        {
          "output_type": "execute_result",
          "data": {
            "text/plain": [
              "0.00413501684174724"
            ]
          },
          "metadata": {},
          "execution_count": 213
        }
      ]
    },
    {
      "cell_type": "markdown",
      "source": [
        "Alpha_msft the  is intercept of the equation. "
      ],
      "metadata": {
        "id": "0SR3f888_XnB"
      }
    },
    {
      "cell_type": "markdown",
      "source": [
        "\n",
        "\n",
        "\n",
        "* **NOTE**: In order to calculate the CAPM model, we first need to calculate the Beta value of each stock.\n",
        "\n",
        "\n",
        "\n",
        "\n"
      ],
      "metadata": {
        "id": "1w9rlCCuEo15"
      }
    },
    {
      "cell_type": "code",
      "source": [
        "beta_msft"
      ],
      "metadata": {
        "colab": {
          "base_uri": "https://localhost:8080/"
        },
        "id": "HPC1uTW-3Y3v",
        "outputId": "e1119c26-0c11-4a6d-acc4-dd806a111540"
      },
      "execution_count": null,
      "outputs": [
        {
          "output_type": "execute_result",
          "data": {
            "text/plain": [
              "1.3201181295100846"
            ]
          },
          "metadata": {},
          "execution_count": 214
        }
      ]
    },
    {
      "cell_type": "markdown",
      "source": [
        "**BETA** **OF** **MSFT**: \n",
        "\n",
        "1.32 is the Beta value of  **MSFT**(Microsoft Corporation ). As a result, if the market as a whole rises by 10%, Microsoft Company Stock is forecast to rise 13.2%. In other words, MSFT loses 13.2% if the market falls 10%. (Beta value of Microsoft Corporation is greater than 1.0 ). "
      ],
      "metadata": {
        "id": "3SrJW1GC3tcD"
      }
    },
    {
      "cell_type": "markdown",
      "source": [
        "**Visualize** **MSFT**"
      ],
      "metadata": {
        "id": "22oNEG2U3mPj"
      }
    },
    {
      "cell_type": "code",
      "source": [
        "fig,ax= plt.subplots()\n",
        "ax.set_title(\"Alpha:  \" + str(round(alpha_msft,5))+\"   ,Beta of (MSFT):  \" + str(round(beta_msft,3)), fontsize=15)\n",
        "ax.scatter(X,Y_msft)\n",
        "ax.plot(X,Y_msft_pred, c=\"r\")"
      ],
      "metadata": {
        "colab": {
          "base_uri": "https://localhost:8080/",
          "height": 313
        },
        "id": "95-kOAXPN896",
        "outputId": "34c89bfb-fc17-4fc5-dd71-8338574ccf85"
      },
      "execution_count": null,
      "outputs": [
        {
          "output_type": "execute_result",
          "data": {
            "text/plain": [
              "[<matplotlib.lines.Line2D at 0x7f93a93eff50>]"
            ]
          },
          "metadata": {},
          "execution_count": 215
        },
        {
          "output_type": "display_data",
          "data": {
            "text/plain": [
              "<Figure size 432x288 with 1 Axes>"
            ],
            "image/png": "[encoded data removed]"
          },
          "metadata": {}
        }
      ]
    },
    {
      "cell_type": "markdown",
      "source": [
        "**Analysis** **of** **MSFT** **chart**\n",
        "\n",
        "* As previously mentioned, the beta is a technique to measure a stock's volatility to the volatility of the entire market. Furthermore, the regression also produces the intercept, commonly referred to as \"alpha.\" y = beta* rm + alpha(y=beta_msft* rm +alpha_msft) is the equation for a straight line.\n",
        "\n"
      ],
      "metadata": {
        "id": "yhjgisK_Jw4t"
      }
    },
    {
      "cell_type": "markdown",
      "source": [
        "**CAPITAL** **PRICE** **ASSET** **MODEL** **FOR** (**MSFT**) "
      ],
      "metadata": {
        "id": "mw1GzbiR5s3T"
      }
    },
    {
      "cell_type": "code",
      "source": [
        "risk_free=stocks[\"RISKFREE\"].mean()*10\n",
        "risk_free"
      ],
      "metadata": {
        "colab": {
          "base_uri": "https://localhost:8080/"
        },
        "id": "RYW3XAB35UjJ",
        "outputId": "432328cb-3747-4e8d-c167-309589e23331"
      },
      "execution_count": null,
      "outputs": [
        {
          "output_type": "execute_result",
          "data": {
            "text/plain": [
              "0.0309293446969697"
            ]
          },
          "metadata": {},
          "execution_count": 216
        }
      ]
    },
    {
      "cell_type": "code",
      "source": [
        "market_return=stocks[\"MKT\"].mean()*120\n",
        "market_return"
      ],
      "metadata": {
        "colab": {
          "base_uri": "https://localhost:8080/"
        },
        "id": "fdRqwJe15r8F",
        "outputId": "92898b8b-e05f-414b-cd79-4790cb827270"
      },
      "execution_count": null,
      "outputs": [
        {
          "output_type": "execute_result",
          "data": {
            "text/plain": [
              "0.3026381818181819"
            ]
          },
          "metadata": {},
          "execution_count": 217
        }
      ]
    },
    {
      "cell_type": "code",
      "source": [
        "expected_return_of_msft= risk_free  + beta_msft*(market_return-risk_free )"
      ],
      "metadata": {
        "id": "iQDCkJiu586t"
      },
      "execution_count": null,
      "outputs": []
    },
    {
      "cell_type": "code",
      "source": [
        "expected_return_of_msft"
      ],
      "metadata": {
        "colab": {
          "base_uri": "https://localhost:8080/"
        },
        "id": "YIqzfoRI59Bq",
        "outputId": "4fadde6f-4421-4b2a-8afc-f1658fbd67fc"
      },
      "execution_count": null,
      "outputs": [
        {
          "output_type": "execute_result",
          "data": {
            "text/plain": [
              "0.38961710652878456"
            ]
          },
          "metadata": {},
          "execution_count": 219
        }
      ]
    },
    {
      "cell_type": "markdown",
      "source": [
        "**Evaluation** **of** **MSFT**"
      ],
      "metadata": {
        "id": "MvkgPlxwA5--"
      }
    },
    {
      "cell_type": "code",
      "source": [
        "from sklearn.metrics import mean_squared_error, r2_score"
      ],
      "metadata": {
        "id": "cosNuK4JAczR"
      },
      "execution_count": null,
      "outputs": []
    },
    {
      "cell_type": "code",
      "source": [
        "print(\"Coefficient of Determination:\", r2_score(Y_msft, Y_msft_pred))\n",
        "print(\"Mean squared  Error:\", mean_squared_error(Y_msft, Y_msft_pred))"
      ],
      "metadata": {
        "colab": {
          "base_uri": "https://localhost:8080/"
        },
        "id": "8rB4J_lKAoy2",
        "outputId": "7a07d2de-e013-4b67-dfa7-1b720aefd97e"
      },
      "execution_count": null,
      "outputs": [
        {
          "output_type": "stream",
          "name": "stdout",
          "text": [
            "Coefficient of Determination: 0.3469647277296313\n",
            "Mean squared  Error: 0.0077036223463709565\n"
          ]
        }
      ]
    },
    {
      "cell_type": "markdown",
      "source": [
        "R square of MSFT is 0.34 "
      ],
      "metadata": {
        "id": "hx5QGZ_kKIz4"
      }
    },
    {
      "cell_type": "markdown",
      "source": [
        "**GE**:(**General** **Electric** **Company**)"
      ],
      "metadata": {
        "id": "QQQ4bDRHWxxF"
      }
    },
    {
      "cell_type": "code",
      "source": [
        "X=stocks[\"MKT\"].iloc[1:].to_numpy().reshape(-1,1)\n",
        "Y_ge=stocks[\"GE\"].iloc[1:].to_numpy().reshape(-1,1)\n",
        "\n",
        "linear_regression=LinearRegression()\n",
        "linear_regression.fit(X,Y_ge)\n",
        "\n",
        "Y_ge_pred=linear_regression.predict(X)\n",
        "\n",
        "alpha_ge=linear_regression.intercept_[0]\n",
        "beta_ge=linear_regression.coef_[0,0]"
      ],
      "metadata": {
        "id": "sMhtIaSF59E2"
      },
      "execution_count": null,
      "outputs": []
    },
    {
      "cell_type": "code",
      "source": [
        "alpha_ge #intercept of equation "
      ],
      "metadata": {
        "colab": {
          "base_uri": "https://localhost:8080/"
        },
        "id": "B_kW1nWd59HT",
        "outputId": "e8dc1960-7cf1-442b-89e9-7c91af9208d4"
      },
      "execution_count": null,
      "outputs": [
        {
          "output_type": "execute_result",
          "data": {
            "text/plain": [
              "-0.0013234046439960395"
            ]
          },
          "metadata": {},
          "execution_count": 223
        }
      ]
    },
    {
      "cell_type": "code",
      "source": [
        "beta_ge"
      ],
      "metadata": {
        "colab": {
          "base_uri": "https://localhost:8080/"
        },
        "id": "DixJTesC59Jo",
        "outputId": "aa76a645-7277-4995-a8ad-b6b3e126327b"
      },
      "execution_count": null,
      "outputs": [
        {
          "output_type": "execute_result",
          "data": {
            "text/plain": [
              "0.9037515480008563"
            ]
          },
          "metadata": {},
          "execution_count": 224
        }
      ]
    },
    {
      "cell_type": "markdown",
      "source": [
        "**BETA** **OF** **GE**\n",
        "\n",
        "The beta of **GE** is 0.90. (General Electric Company). As a result, the stock of General Electric Company is expected to increase by 9% if the market as a whole increases by 10%. In other words, if the market declines 10%, GE loses 9%. (General Electric Company's beta value is less than 1.0.)"
      ],
      "metadata": {
        "id": "LSk-kpoIFzCc"
      }
    },
    {
      "cell_type": "markdown",
      "source": [
        "**Visualize** **GE**"
      ],
      "metadata": {
        "id": "sG5Wcgy0k8jl"
      }
    },
    {
      "cell_type": "code",
      "source": [
        "fig,ax= plt.subplots()\n",
        "ax.set_title(\"Alpha:   \" + str(round(alpha_ge,5))+\"   ,Beta of (GE):  \" + str(round(beta_ge,3)), fontsize=15)\n",
        "ax.scatter(X,Y_ge)\n",
        "ax.plot(X,Y_ge_pred, c=\"r\")"
      ],
      "metadata": {
        "colab": {
          "base_uri": "https://localhost:8080/",
          "height": 313
        },
        "id": "MDdzom6w59M6",
        "outputId": "8853933c-846d-4700-8b29-a9d30c449f45"
      },
      "execution_count": null,
      "outputs": [
        {
          "output_type": "execute_result",
          "data": {
            "text/plain": [
              "[<matplotlib.lines.Line2D at 0x7f93a93bae10>]"
            ]
          },
          "metadata": {},
          "execution_count": 225
        },
        {
          "output_type": "display_data",
          "data": {
            "text/plain": [
              "<Figure size 432x288 with 1 Axes>"
            ],
            "image/png": "[encoded data removed]"
          },
          "metadata": {}
        }
      ]
    },
    {
      "cell_type": "markdown",
      "source": [
        "**Analysis** **of** **GE** **chart**\n",
        "\n",
        "* As previously mentioned, the beta is a technique to measure a stock's volatility to the volatility of the entire market. Furthermore, the regression also produces the intercept, commonly referred to as \"alpha.\" y = beta* rm + alpha(y=beta_ge *rm +alpha_ge) is the equation for a straight line."
      ],
      "metadata": {
        "id": "FQDVxAnMMRLy"
      }
    },
    {
      "cell_type": "code",
      "source": [
        "#beta_ge= covariance.loc[\"GE\",\"MKT\"]/variance # Beta value for GE\n",
        "#beta_ge"
      ],
      "metadata": {
        "id": "n8NhO4mk-y5T"
      },
      "execution_count": null,
      "outputs": []
    },
    {
      "cell_type": "markdown",
      "source": [
        "**CAPITAL** **PRICE** **ASSET** **MODEL** **FOR** (**GE**) "
      ],
      "metadata": {
        "id": "ZqF60kZPlJfc"
      }
    },
    {
      "cell_type": "code",
      "source": [
        "expected_return_of_ge= risk_free + beta_ge*(market_return - risk_free)"
      ],
      "metadata": {
        "id": "xcQJb37wk7kP"
      },
      "execution_count": null,
      "outputs": []
    },
    {
      "cell_type": "code",
      "source": [
        "expected_return_of_ge"
      ],
      "metadata": {
        "colab": {
          "base_uri": "https://localhost:8080/"
        },
        "id": "QRsl2xx8k7pg",
        "outputId": "f0c8f7df-b266-4940-9b2c-add41cb58d9b"
      },
      "execution_count": null,
      "outputs": [
        {
          "output_type": "execute_result",
          "data": {
            "text/plain": [
              "0.27648662685077774"
            ]
          },
          "metadata": {},
          "execution_count": 228
        }
      ]
    },
    {
      "cell_type": "markdown",
      "source": [
        "**Evaluation** **of** **GE**"
      ],
      "metadata": {
        "id": "Ov7ihVNyBbJh"
      }
    },
    {
      "cell_type": "code",
      "source": [
        "print(\"Coefficient of Determination:\", r2_score(Y_ge, Y_ge_pred))\n",
        "print(\"Mean squared  Error:\", mean_squared_error(Y_ge, Y_ge_pred))"
      ],
      "metadata": {
        "colab": {
          "base_uri": "https://localhost:8080/"
        },
        "id": "uoIQJ1pnBeDl",
        "outputId": "ad8839a0-6a3d-43ce-d20d-39fe4f2140c6"
      },
      "execution_count": null,
      "outputs": [
        {
          "output_type": "stream",
          "name": "stdout",
          "text": [
            "Coefficient of Determination: 0.3940959688850575\n",
            "Mean squared  Error: 0.0029492938057999194\n"
          ]
        }
      ]
    },
    {
      "cell_type": "markdown",
      "source": [
        "**IBM**:(**International** **Business** **Machines** **Corporation**)"
      ],
      "metadata": {
        "id": "UhSAhOqCtfwr"
      }
    },
    {
      "cell_type": "code",
      "source": [
        "X=stocks[\"MKT\"].iloc[1:].to_numpy().reshape(-1,1)\n",
        "Y_ibm=stocks[\"IBM\"].iloc[1:].to_numpy().reshape(-1,1)\n",
        "\n",
        "linear_regression=LinearRegression()\n",
        "linear_regression.fit(X,Y_ibm)\n",
        "\n",
        "Y_ibm_pred=linear_regression.predict(X)\n",
        "\n",
        "alpha_ibm=linear_regression.intercept_[0]\n",
        "beta_ibm=linear_regression.coef_[0,0]"
      ],
      "metadata": {
        "id": "TyJDlqP_k7xu"
      },
      "execution_count": null,
      "outputs": []
    },
    {
      "cell_type": "code",
      "source": [
        "alpha_ibm"
      ],
      "metadata": {
        "colab": {
          "base_uri": "https://localhost:8080/"
        },
        "id": "PCHhMnSgtziC",
        "outputId": "4909835e-524e-436e-b60b-85badbf74d88"
      },
      "execution_count": null,
      "outputs": [
        {
          "output_type": "execute_result",
          "data": {
            "text/plain": [
              "0.005838507482369621"
            ]
          },
          "metadata": {},
          "execution_count": 231
        }
      ]
    },
    {
      "cell_type": "code",
      "source": [
        "beta_ibm"
      ],
      "metadata": {
        "colab": {
          "base_uri": "https://localhost:8080/"
        },
        "id": "9taQYShctzoV",
        "outputId": "54042ac3-7e01-4925-dd45-aff998984fc8"
      },
      "execution_count": null,
      "outputs": [
        {
          "output_type": "execute_result",
          "data": {
            "text/plain": [
              "1.1909272832204014"
            ]
          },
          "metadata": {},
          "execution_count": 232
        }
      ]
    },
    {
      "cell_type": "markdown",
      "source": [
        "**BETA** **OF** **IBM**\n",
        "\n",
        "The beta of IBM is 1.19. (IBM:International Business Machines Corporation). As a result, the stock of International Business Machines Corporation is expected to increase by 11.9% if the market as a whole increases by 10%. In other words, if the market declines 10%, IBM loses 11.2%. (International Business Machines Corporation) beta value is greater than 1.0.)"
      ],
      "metadata": {
        "id": "V81LbX30K2oo"
      }
    },
    {
      "cell_type": "markdown",
      "source": [
        "**Visualize** **IBM**"
      ],
      "metadata": {
        "id": "7XBqhfjHuCW3"
      }
    },
    {
      "cell_type": "code",
      "source": [
        "fig,ax= plt.subplots()\n",
        "ax.set_title(\"Alpha:   \" + str(round(alpha_ibm,5))+\"   ,Beta of (IBM):  \" + str(round(beta_ibm,3)), fontsize=15)\n",
        "ax.scatter(X,Y_ibm)\n",
        "ax.plot(X,Y_ibm_pred, c=\"r\")"
      ],
      "metadata": {
        "colab": {
          "base_uri": "https://localhost:8080/",
          "height": 313
        },
        "id": "noQArufstzrb",
        "outputId": "d49efb58-58e5-464c-b758-bf7f5f4eeca4"
      },
      "execution_count": null,
      "outputs": [
        {
          "output_type": "execute_result",
          "data": {
            "text/plain": [
              "[<matplotlib.lines.Line2D at 0x7f93a92a4510>]"
            ]
          },
          "metadata": {},
          "execution_count": 233
        },
        {
          "output_type": "display_data",
          "data": {
            "text/plain": [
              "<Figure size 432x288 with 1 Axes>"
            ],
            "image/png": "[encoded data removed]"
          },
          "metadata": {}
        }
      ]
    },
    {
      "cell_type": "markdown",
      "source": [
        "**Analysis** **of** **IBM** **chart**\n",
        "\n",
        "* As previously mentioned, the beta is a technique to measure a stock's volatility to the volatility of the entire market. Furthermore, the regression also produces the intercept, commonly referred to as \"alpha.\" y = beta* *rm + alpha(y=beta_ibm**rm +alpha_ibm) is the equation for a straight line."
      ],
      "metadata": {
        "id": "BKTREWXHMdIa"
      }
    },
    {
      "cell_type": "markdown",
      "source": [
        "**CAPITAL** **PRICE** **ASSET** **MODEL** **FOR** (**IBM**) "
      ],
      "metadata": {
        "id": "XaJerGiju7GK"
      }
    },
    {
      "cell_type": "code",
      "source": [
        "expected_return_of_ibm= risk_free + beta_ibm*(market_return - risk_free)"
      ],
      "metadata": {
        "id": "Y9RqePuRtzuP"
      },
      "execution_count": null,
      "outputs": []
    },
    {
      "cell_type": "code",
      "source": [
        "expected_return_of_ibm"
      ],
      "metadata": {
        "colab": {
          "base_uri": "https://localhost:8080/"
        },
        "id": "X-rCojpKtzwv",
        "outputId": "58b4e659-5e7c-4923-fa03-73aea0159c93"
      },
      "execution_count": null,
      "outputs": [
        {
          "output_type": "execute_result",
          "data": {
            "text/plain": [
              "0.3545148119167095"
            ]
          },
          "metadata": {},
          "execution_count": 235
        }
      ]
    },
    {
      "cell_type": "markdown",
      "source": [
        "**Evaluation** **of** **IBM**"
      ],
      "metadata": {
        "id": "iCFHtbGfBvjg"
      }
    },
    {
      "cell_type": "code",
      "source": [
        "print(\"Coefficient of Determination:\", r2_score(Y_ibm, Y_ibm_pred))\n",
        "print(\"Mean squared  Error:\", mean_squared_error(Y_ibm, Y_ibm_pred))"
      ],
      "metadata": {
        "colab": {
          "base_uri": "https://localhost:8080/"
        },
        "id": "Kh3PtClwBxlX",
        "outputId": "a9c75fd1-04fb-4fe3-b2e6-abd080a62ea0"
      },
      "execution_count": null,
      "outputs": [
        {
          "output_type": "stream",
          "name": "stdout",
          "text": [
            "Coefficient of Determination: 0.40844930055152284\n",
            "Mean squared  Error: 0.004824389748971233\n"
          ]
        }
      ]
    },
    {
      "cell_type": "markdown",
      "source": [
        "**FORD**:(**Forward** **Industries**, **Inc**.)"
      ],
      "metadata": {
        "id": "3Do3EpfpvMMh"
      }
    },
    {
      "cell_type": "code",
      "source": [
        "X=stocks[\"MKT\"].iloc[1:].to_numpy().reshape(-1,1)\n",
        "Y_ford=stocks[\"FORD\"].iloc[1:].to_numpy().reshape(-1,1)\n",
        "\n",
        "linear_regression=LinearRegression()\n",
        "linear_regression.fit(X,Y_ford)\n",
        "\n",
        "Y_ford_pred=linear_regression.predict(X)\n",
        "\n",
        "alpha_ford=linear_regression.intercept_[0]\n",
        "beta_ford=linear_regression.coef_[0,0]"
      ],
      "metadata": {
        "id": "0BUsDlGltzzk"
      },
      "execution_count": null,
      "outputs": []
    },
    {
      "cell_type": "code",
      "source": [
        "alpha_ford"
      ],
      "metadata": {
        "colab": {
          "base_uri": "https://localhost:8080/"
        },
        "id": "wAEY4erGk70a",
        "outputId": "61c51a9e-b01a-4cbc-9db2-9ff293ac694a"
      },
      "execution_count": null,
      "outputs": [
        {
          "output_type": "execute_result",
          "data": {
            "text/plain": [
              "-0.007728474760261873"
            ]
          },
          "metadata": {},
          "execution_count": 238
        }
      ]
    },
    {
      "cell_type": "code",
      "source": [
        "beta_ford"
      ],
      "metadata": {
        "colab": {
          "base_uri": "https://localhost:8080/"
        },
        "id": "WXuyHhUHwKru",
        "outputId": "ac7c6b23-1098-4eb6-cfd4-2bf10d635154"
      },
      "execution_count": null,
      "outputs": [
        {
          "output_type": "execute_result",
          "data": {
            "text/plain": [
              "1.3159932813468505"
            ]
          },
          "metadata": {},
          "execution_count": 239
        }
      ]
    },
    {
      "cell_type": "markdown",
      "source": [
        "**BETA** **OF** **FORD**\n",
        "\n",
        "The beta of **FORD** is 1.31. (Forward Industries, Inc.). As a result, the stock of Forward Industries, Inc.  is expected to increase by 13.1% if the market as a whole increases by 10%. In other words, if the market declines 10%, FORD loses 13.1%.( Forward Industries, Inc.'s beta value is greater than 1.0.)"
      ],
      "metadata": {
        "id": "LSuS9EVzNxvs"
      }
    },
    {
      "cell_type": "markdown",
      "source": [
        "**Visualize** (**FORD**) "
      ],
      "metadata": {
        "id": "lWjb-gGLw_8P"
      }
    },
    {
      "cell_type": "code",
      "source": [
        "fig,ax= plt.subplots()\n",
        "ax.set_title(\"Alpha:   \" + str(round(alpha_ford,5))+\"  ,Beta of (FORD):  \" + str(round(beta_ford,3)), fontsize=15)\n",
        "ax.scatter(X,Y_ford)\n",
        "ax.plot(X,Y_ford_pred, c=\"r\")"
      ],
      "metadata": {
        "colab": {
          "base_uri": "https://localhost:8080/",
          "height": 313
        },
        "id": "dUUTp4uJwOZU",
        "outputId": "58e4c352-00da-44da-8b42-f6a5e7716e89"
      },
      "execution_count": null,
      "outputs": [
        {
          "output_type": "execute_result",
          "data": {
            "text/plain": [
              "[<matplotlib.lines.Line2D at 0x7f93a929b250>]"
            ]
          },
          "metadata": {},
          "execution_count": 240
        },
        {
          "output_type": "display_data",
          "data": {
            "text/plain": [
              "<Figure size 432x288 with 1 Axes>"
            ],
            "image/png": "[encoded data removed]"
          },
          "metadata": {}
        }
      ]
    },
    {
      "cell_type": "markdown",
      "source": [
        "**Analysis** **of** **FORD** **chart**\n",
        "\n",
        "As previously mentioned, the beta is a technique to measure a stock's volatility to the volatility of the entire market. Furthermore, the regression also produces the intercept, commonly referred to as \"alpha.\" y = beta*rm + alpha(y=beta_ford**rm +alpha_ford) is the equation for a straight line."
      ],
      "metadata": {
        "id": "RbuXxl4zN_Ol"
      }
    },
    {
      "cell_type": "markdown",
      "source": [
        "**Capital** **price** **asset** **model** **for** (**FORD**) "
      ],
      "metadata": {
        "id": "vfBN9R2Ux8_l"
      }
    },
    {
      "cell_type": "code",
      "source": [
        "expected_return_of_ford= risk_free + beta_ford*(market_return - risk_free)"
      ],
      "metadata": {
        "id": "A5gEhyEQwOc0"
      },
      "execution_count": null,
      "outputs": []
    },
    {
      "cell_type": "code",
      "source": [
        "expected_return_of_ford"
      ],
      "metadata": {
        "colab": {
          "base_uri": "https://localhost:8080/"
        },
        "id": "xvW-Qvq4wOjV",
        "outputId": "8396346e-328e-4b7e-dd30-5967e7121452"
      },
      "execution_count": null,
      "outputs": [
        {
          "output_type": "execute_result",
          "data": {
            "text/plain": [
              "0.38849634883105066"
            ]
          },
          "metadata": {},
          "execution_count": 242
        }
      ]
    },
    {
      "cell_type": "markdown",
      "source": [
        "**Evaluation** **of** **FORD**"
      ],
      "metadata": {
        "id": "FsCzzUXgCDrq"
      }
    },
    {
      "cell_type": "code",
      "source": [
        "print(\"Coefficient of Determination:\", r2_score(Y_ford, Y_ford_pred))\n",
        "print(\"Mean squared  Error:\", mean_squared_error(Y_ford, Y_ford_pred))"
      ],
      "metadata": {
        "colab": {
          "base_uri": "https://localhost:8080/"
        },
        "id": "e3asGs1gCIBx",
        "outputId": "74e7fac9-d0e4-44de-e9e7-faa225f92bc5"
      },
      "execution_count": null,
      "outputs": [
        {
          "output_type": "stream",
          "name": "stdout",
          "text": [
            "Coefficient of Determination: 0.2403309774999618\n",
            "Mean squared  Error: 0.01285701319182299\n"
          ]
        }
      ]
    },
    {
      "cell_type": "markdown",
      "source": [
        "**DIS**:(**The** **Walt** **Disney** **Company**)"
      ],
      "metadata": {
        "id": "0evdHS_myRwt"
      }
    },
    {
      "cell_type": "code",
      "source": [
        "X=stocks[\"MKT\"].iloc[1:].to_numpy().reshape(-1,1)\n",
        "Y_dis=stocks[\"DIS\"].iloc[1:].to_numpy().reshape(-1,1)\n",
        "\n",
        "linear_regression=LinearRegression()\n",
        "linear_regression.fit(X,Y_dis)\n",
        "\n",
        "Y_dis_pred=linear_regression.predict(X)\n",
        "\n",
        "alpha_dis=linear_regression.intercept_[0]\n",
        "beta_dis=linear_regression.coef_[0,0]"
      ],
      "metadata": {
        "id": "DgiA9GbRwOpX"
      },
      "execution_count": null,
      "outputs": []
    },
    {
      "cell_type": "code",
      "source": [
        "alpha_dis"
      ],
      "metadata": {
        "colab": {
          "base_uri": "https://localhost:8080/"
        },
        "id": "egsTbLOGwOuC",
        "outputId": "a8a1cc42-3c92-4b9d-ec2a-f03fdde72e48"
      },
      "execution_count": null,
      "outputs": [
        {
          "output_type": "execute_result",
          "data": {
            "text/plain": [
              "-0.0014775539780241987"
            ]
          },
          "metadata": {},
          "execution_count": 245
        }
      ]
    },
    {
      "cell_type": "code",
      "source": [
        "beta_dis"
      ],
      "metadata": {
        "colab": {
          "base_uri": "https://localhost:8080/"
        },
        "id": "QpDrjDi8ytjQ",
        "outputId": "3c628918-1415-4f2b-ef48-134a4790620d"
      },
      "execution_count": null,
      "outputs": [
        {
          "output_type": "execute_result",
          "data": {
            "text/plain": [
              "0.8972703140108715"
            ]
          },
          "metadata": {},
          "execution_count": 246
        }
      ]
    },
    {
      "cell_type": "markdown",
      "source": [
        "**BETA** **OF** **DIS**\n",
        "\n",
        "The beta of DIS is 0.89. (The Walt Disney Company)). As a result, the stock of The Walt Disney Company is expected to increase by 8.9% if the market as a whole increases by 10%. In other words, if the market declines 10%, DIS loses 8.9%.(The Walt Disney Company's beta value is less than 1.0.)"
      ],
      "metadata": {
        "id": "taCZ5fBGPmTO"
      }
    },
    {
      "cell_type": "markdown",
      "source": [
        "**Visualize** (**DIS**)"
      ],
      "metadata": {
        "id": "jOe2E4v5y1L1"
      }
    },
    {
      "cell_type": "code",
      "source": [
        "fig,ax= plt.subplots()\n",
        "ax.set_title(\"Alpha:   \" + str(round(alpha_dis,5))+\"  ,Beta of (DIS):  \" + str(round(beta_dis,3)), fontsize=15)\n",
        "ax.scatter(X,Y_dis)\n",
        "ax.plot(X,Y_dis_pred, c=\"r\")"
      ],
      "metadata": {
        "colab": {
          "base_uri": "https://localhost:8080/",
          "height": 313
        },
        "id": "ad5ykphVyvup",
        "outputId": "a570c402-747e-4447-f423-c6b4c4186ff4"
      },
      "execution_count": null,
      "outputs": [
        {
          "output_type": "execute_result",
          "data": {
            "text/plain": [
              "[<matplotlib.lines.Line2D at 0x7f93a91fffd0>]"
            ]
          },
          "metadata": {},
          "execution_count": 247
        },
        {
          "output_type": "display_data",
          "data": {
            "text/plain": [
              "<Figure size 432x288 with 1 Axes>"
            ],
            "image/png": "[encoded data removed]"
          },
          "metadata": {}
        }
      ]
    },
    {
      "cell_type": "markdown",
      "source": [
        "**Analysis** **of** **DIS** **chart**\n",
        "\n",
        "As previously mentioned, the beta is a technique to measure a stock's volatility to the volatility of the entire market. Furthermore, the regression also produces the intercept, commonly referred to as \"alpha.\" y = beta* rm + alpha(y=beta_dis *rm +alpha_dis) is the equation for a straight line."
      ],
      "metadata": {
        "id": "h7JcauQ9OoZE"
      }
    },
    {
      "cell_type": "markdown",
      "source": [
        "**Capital** **price** **asset** **model** **for** (**DIS**)"
      ],
      "metadata": {
        "id": "Ylp1S4OLzF6j"
      }
    },
    {
      "cell_type": "code",
      "source": [
        "expected_return_of_dis= risk_free + beta_dis*(market_return - risk_free)"
      ],
      "metadata": {
        "id": "X3bM2ns9yvx3"
      },
      "execution_count": null,
      "outputs": []
    },
    {
      "cell_type": "code",
      "source": [
        "expected_return_of_dis"
      ],
      "metadata": {
        "colab": {
          "base_uri": "https://localhost:8080/"
        },
        "id": "1ijS9o4tyv07",
        "outputId": "2d4c9ecc-1149-40b4-93fd-ae8ed91341e7"
      },
      "execution_count": null,
      "outputs": [
        {
          "output_type": "execute_result",
          "data": {
            "text/plain": [
              "0.2747256183002485"
            ]
          },
          "metadata": {},
          "execution_count": 249
        }
      ]
    },
    {
      "cell_type": "markdown",
      "source": [
        "**Evaluation** **of** **DIS**"
      ],
      "metadata": {
        "id": "8XB5W4V-CmUb"
      }
    },
    {
      "cell_type": "code",
      "source": [
        "print(\"Coefficient of Determination:\", r2_score(Y_dis, Y_dis_pred))\n",
        "print(\"Mean squared  Error:\", mean_squared_error(Y_dis, Y_dis_pred))"
      ],
      "metadata": {
        "colab": {
          "base_uri": "https://localhost:8080/"
        },
        "id": "2Dpu_QNPCxh0",
        "outputId": "838e786d-d930-4dc2-b82a-7d1a7ff45491"
      },
      "execution_count": null,
      "outputs": [
        {
          "output_type": "stream",
          "name": "stdout",
          "text": [
            "Coefficient of Determination: 0.29132444289254367\n",
            "Mean squared  Error: 0.00459976039037452\n"
          ]
        }
      ]
    },
    {
      "cell_type": "markdown",
      "source": [
        "**XOM**:(**Exxon** **Mobil** **Corporation**)"
      ],
      "metadata": {
        "id": "Lj7ML2Jw0IDs"
      }
    },
    {
      "cell_type": "code",
      "source": [
        "X=stocks[\"MKT\"].iloc[1:].to_numpy().reshape(-1,1)\n",
        "Y_xom=stocks[\"XOM\"].iloc[1:].to_numpy().reshape(-1,1)\n",
        "\n",
        "linear_regression=LinearRegression()\n",
        "linear_regression.fit(X,Y_xom)\n",
        "\n",
        "Y_xom_pred=linear_regression.predict(X)\n",
        "\n",
        "alpha_xom=linear_regression.intercept_[0]\n",
        "beta_xom=linear_regression.coef_[0,0]"
      ],
      "metadata": {
        "id": "gQ7Ad8x9yv6v"
      },
      "execution_count": null,
      "outputs": []
    },
    {
      "cell_type": "code",
      "source": [
        "alpha_xom"
      ],
      "metadata": {
        "colab": {
          "base_uri": "https://localhost:8080/"
        },
        "id": "CxVPZdb_ytm5",
        "outputId": "f60098b8-573e-4fea-c435-801a2925b3d9"
      },
      "execution_count": null,
      "outputs": [
        {
          "output_type": "execute_result",
          "data": {
            "text/plain": [
              "0.009758072306064756"
            ]
          },
          "metadata": {},
          "execution_count": 252
        }
      ]
    },
    {
      "cell_type": "code",
      "source": [
        "beta_xom"
      ],
      "metadata": {
        "colab": {
          "base_uri": "https://localhost:8080/"
        },
        "id": "pn-5SJln0aig",
        "outputId": "c0194a21-a48e-40fc-c0a1-d13e8386a9c5"
      },
      "execution_count": null,
      "outputs": [
        {
          "output_type": "execute_result",
          "data": {
            "text/plain": [
              "0.41625313004115955"
            ]
          },
          "metadata": {},
          "execution_count": 253
        }
      ]
    },
    {
      "cell_type": "markdown",
      "source": [
        "**BETA** **OF** **XOM**\n",
        "\n",
        "The beta of DIS is 0.41. (Exxon Mobil Corporation). As a result, the stock of Exxon Mobil Corporation is expected to increase by 4.1% if the market as a whole increases by 10%. In other words, if the market declines 10%, XOM loses 4.1%.(Exxon Mobil Corporation's beta value is less than 1.0.)"
      ],
      "metadata": {
        "id": "wVpK9GQwQOPC"
      }
    },
    {
      "cell_type": "markdown",
      "source": [
        "**Visualize** (**XOM**)"
      ],
      "metadata": {
        "id": "1lWHGvZp0klp"
      }
    },
    {
      "cell_type": "code",
      "source": [
        "fig,ax= plt.subplots()\n",
        "ax.set_title(\"Alpha:   \" + str(round(alpha_xom,5))+\"  ,Beta of (XOM):  \" + str(round(beta_xom,3)), fontsize=15)\n",
        "ax.scatter(X,Y_xom)\n",
        "ax.plot(X,Y_xom_pred, c=\"r\")"
      ],
      "metadata": {
        "colab": {
          "base_uri": "https://localhost:8080/",
          "height": 313
        },
        "id": "5kA9s_ts0jdz",
        "outputId": "89634f2e-dea9-4b6c-9a22-c833c074a3c1"
      },
      "execution_count": null,
      "outputs": [
        {
          "output_type": "execute_result",
          "data": {
            "text/plain": [
              "[<matplotlib.lines.Line2D at 0x7f93a9171650>]"
            ]
          },
          "metadata": {},
          "execution_count": 254
        },
        {
          "output_type": "display_data",
          "data": {
            "text/plain": [
              "<Figure size 432x288 with 1 Axes>"
            ],
            "image/png": "[encoded data removed]"
          },
          "metadata": {}
        }
      ]
    },
    {
      "cell_type": "markdown",
      "source": [
        "**Analysis** **of** **XOM** **chart**\n",
        "\n",
        "As previously mentioned, the beta is a technique to measure a stock's volatility to the volatility of the entire market. Furthermore, the regression also produces the intercept, commonly referred to as \"alpha.\" y = beta* rm + alpha(y=beta_xom *rm +alpha_xom) is the equation for a straight line."
      ],
      "metadata": {
        "id": "rSnay-kjP_58"
      }
    },
    {
      "cell_type": "markdown",
      "source": [
        "**Capital** **price** **asset** **model** **for** (**XOM**)"
      ],
      "metadata": {
        "id": "pszlEYaQ01jv"
      }
    },
    {
      "cell_type": "code",
      "source": [
        "expected_return_of_xom= risk_free + beta_xom*(market_return - risk_free)"
      ],
      "metadata": {
        "id": "EbNkKWvK06FB"
      },
      "execution_count": null,
      "outputs": []
    },
    {
      "cell_type": "code",
      "source": [
        "expected_return_of_xom"
      ],
      "metadata": {
        "colab": {
          "base_uri": "https://localhost:8080/"
        },
        "id": "5kzPBHn806NY",
        "outputId": "51122288-8afe-4dff-e63b-bf8d998da356"
      },
      "execution_count": null,
      "outputs": [
        {
          "output_type": "execute_result",
          "data": {
            "text/plain": [
              "0.14402899860851787"
            ]
          },
          "metadata": {},
          "execution_count": 256
        }
      ]
    },
    {
      "cell_type": "markdown",
      "source": [
        "**Evaluation** **of** **XOM**"
      ],
      "metadata": {
        "id": "w61PEP5kC_pl"
      }
    },
    {
      "cell_type": "code",
      "source": [
        "print(\"Coefficient of Determination:\", r2_score(Y_xom, Y_xom_pred))\n",
        "print(\"Mean squared  Error:\", mean_squared_error(Y_xom, Y_xom_pred))"
      ],
      "metadata": {
        "colab": {
          "base_uri": "https://localhost:8080/"
        },
        "id": "uh6I35KUDEFX",
        "outputId": "1b957f0b-9fd0-4deb-8154-eeae24f07956"
      },
      "execution_count": null,
      "outputs": [
        {
          "output_type": "stream",
          "name": "stdout",
          "text": [
            "Coefficient of Determination: 0.14327360199803518\n",
            "Mean squared  Error: 0.002433375184754488\n"
          ]
        }
      ]
    }
  ]
}